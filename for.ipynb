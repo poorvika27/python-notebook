{
 "cells": [
  {
   "cell_type": "markdown",
   "id": "e663b126",
   "metadata": {},
   "source": [
    "for loop:\n",
    "In C, for loop iterates over an arithmetic progession of numbers. But in python, for statement iterates over the items of any sequence"
   ]
  },
  {
   "cell_type": "code",
   "execution_count": null,
   "id": "32038b32",
   "metadata": {
    "vscode": {
     "languageId": "plaintext"
    }
   },
   "outputs": [],
   "source": [
    "list = ['dog', 'cat','lion']\n",
    "for item in list:\n",
    "    print(item)"
   ]
  },
  {
   "cell_type": "markdown",
   "id": "0558fcc7",
   "metadata": {},
   "source": [
    "range() function:\n",
    "-> the built-in function range() is used to iterate over a sequence of numbers.\n",
    "-> range(stop): generates a sequences of numbers from 0 to stop-1\n",
    "-> range(start, stop): generates a sequences of numbers from start to stop-1\n",
    "-> range(start, stop, step): generates a sequences of numbers from 0 to stop-1 and incrementing by step\n",
    "-> stop will never be part of generated sequence.\n",
    "-> start and step are optional"
   ]
  },
  {
   "cell_type": "code",
   "execution_count": null,
   "id": "778b1889",
   "metadata": {
    "vscode": {
     "languageId": "plaintext"
    }
   },
   "outputs": [],
   "source": [
    "for i in range(5):\n",
    "    print(i)"
   ]
  },
  {
   "cell_type": "code",
   "execution_count": null,
   "id": "d547ba31",
   "metadata": {
    "vscode": {
     "languageId": "plaintext"
    }
   },
   "outputs": [],
   "source": [
    "#incrementing with positive steps\n",
    "for i in range(0, 20, 2):\n",
    "    print(i)"
   ]
  },
  {
   "cell_type": "code",
   "execution_count": null,
   "id": "e3a31a6e",
   "metadata": {
    "vscode": {
     "languageId": "plaintext"
    }
   },
   "outputs": [],
   "source": [
    "#decrementing with negative steps\n",
    "for i in range(20,0,-2):\n",
    "    print(i)"
   ]
  },
  {
   "cell_type": "markdown",
   "id": "18843a50",
   "metadata": {},
   "source": [
    "range() function does not supports non-integer sequence\n",
    "for i in range(2.2): #Invalid\n",
    "    print(i)"
   ]
  },
  {
   "cell_type": "markdown",
   "id": "acc128e1",
   "metadata": {},
   "source": [
    "Accessing range with an index"
   ]
  },
  {
   "cell_type": "code",
   "execution_count": null,
   "id": "9ee5f17c",
   "metadata": {
    "vscode": {
     "languageId": "plaintext"
    }
   },
   "outputs": [],
   "source": [
    "x=range(10)[0] #x=0\n",
    "print(\"first element:\",x)\n",
    "\n",
    "x=range(10)[-1] #x=9\n",
    "print(\"first element in reverse order\", x)\n",
    "\n",
    "x=range(10)[4] #x=4\n",
    "print(\"Fifth element:\", x)"
   ]
  },
  {
   "cell_type": "code",
   "execution_count": null,
   "id": "2d196e76",
   "metadata": {
    "vscode": {
     "languageId": "plaintext"
    }
   },
   "outputs": [],
   "source": [
    "#accessing list or string with range()\n",
    "list =[\"cat\", \"dog\", \"lion\"]\n",
    "for i in range(len(list)):\n",
    "    print(list(i))\n",
    "\n",
    "str=\"John\"\n",
    "for i in range(len(name)):\n",
    "    print(str[i])"
   ]
  },
  {
   "cell_type": "code",
   "execution_count": null,
   "id": "0e24b75f",
   "metadata": {
    "vscode": {
     "languageId": "plaintext"
    }
   },
   "outputs": [],
   "source": [
    "#step cannot be zero. If so, Python gives valueError\n",
    "for i in range(1,10,0): #since step is zero\n",
    "    print(i)"
   ]
  }
 ],
 "metadata": {
  "language_info": {
   "name": "python"
  }
 },
 "nbformat": 4,
 "nbformat_minor": 5
}
